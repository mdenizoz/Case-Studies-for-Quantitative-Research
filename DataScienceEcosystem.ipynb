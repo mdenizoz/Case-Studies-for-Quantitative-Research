{
 "cells": [
  {
   "cell_type": "markdown",
   "id": "13da66ab",
   "metadata": {},
   "source": [
    "# Data Science Ecosystem"
   ]
  },
  {
   "cell_type": "markdown",
   "id": "a9be3cf2",
   "metadata": {},
   "source": [
    "In this notebook, Data Science Tools and Ecosystem are summarized."
   ]
  },
  {
   "cell_type": "markdown",
   "id": "342cd0b8",
   "metadata": {},
   "source": [
    "# Some of the popular languages that Data Scientists use are:\n",
    "1. Python\n",
    "2. SQL\n",
    "3. R\n",
    "4. Java"
   ]
  },
  {
   "cell_type": "markdown",
   "id": "66f90a3e",
   "metadata": {},
   "source": [
    "# Some of the commonly used libraries used by Data Scientists include:\n",
    "1. TensorFlow\n",
    "2. NumPy\n",
    "3. SciPy\n",
    "4. Pandas\n",
    "\n"
   ]
  },
  {
   "cell_type": "markdown",
   "id": "b6894b01",
   "metadata": {},
   "source": [
    "##  Table of Data Science Tools\n",
    "\n",
    "| Data Science Tools | \n",
    "| -------------| \n",
    "| TensorFlow | \n",
    "| Jupyter Notebook | \n",
    "| MongoDB | "
   ]
  },
  {
   "cell_type": "markdown",
   "id": "49565622",
   "metadata": {},
   "source": [
    "### Below are a few examples of evaluating arithmetic expressions in Python\n"
   ]
  },
  {
   "cell_type": "code",
   "execution_count": 34,
   "id": "331db615",
   "metadata": {},
   "outputs": [
    {
     "data": {
      "text/plain": [
       "17"
      ]
     },
     "execution_count": 34,
     "metadata": {},
     "output_type": "execute_result"
    }
   ],
   "source": [
    " # This a simple arithmetic expression to mutiply then add integers.\n",
    "   \n",
    "(3*4)+5"
   ]
  },
  {
   "cell_type": "code",
   "execution_count": 37,
   "id": "28245894",
   "metadata": {},
   "outputs": [
    {
     "data": {
      "text/plain": [
       "3.3333333333333335"
      ]
     },
     "execution_count": 37,
     "metadata": {},
     "output_type": "execute_result"
    }
   ],
   "source": [
    "# This will convert 200 minutes to hours by diving by 60.\n",
    "\n",
    "200/60 "
   ]
  },
  {
   "cell_type": "markdown",
   "id": "af2f6174",
   "metadata": {},
   "source": [
    "# List popular languages for Data Science\n",
    "\n",
    "\n",
    "* Python\n",
    "* SQL\n",
    "* R\n",
    "* Java\n",
    "\n"
   ]
  },
  {
   "cell_type": "markdown",
   "id": "a089e9b7",
   "metadata": {},
   "source": [
    "## Author: \n",
    "Merve Deniz Öz"
   ]
  }
 ],
 "metadata": {
  "kernelspec": {
   "display_name": "Python 3 (ipykernel)",
   "language": "python",
   "name": "python3"
  },
  "language_info": {
   "codemirror_mode": {
    "name": "ipython",
    "version": 3
   },
   "file_extension": ".py",
   "mimetype": "text/x-python",
   "name": "python",
   "nbconvert_exporter": "python",
   "pygments_lexer": "ipython3",
   "version": "3.9.13"
  }
 },
 "nbformat": 4,
 "nbformat_minor": 5
}
